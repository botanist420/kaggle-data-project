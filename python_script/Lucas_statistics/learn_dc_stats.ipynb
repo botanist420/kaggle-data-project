{
 "cells": [
  {
   "cell_type": "markdown",
   "metadata": {},
   "source": [
    "# Chapter: Statistics in Python\n",
    "\n",
    "This scripts is where I learned from DataCamp, espacilally\n",
    "\n",
    "## quartiles, quantile\n",
    "\n",
    "Using `np.quantile` for generating the quartile between different positions\n",
    "\n",
    "0.5 quantile = meadian\n",
    "\n",
    ">Tips: we may use up.linspace(0, 1, 5) to set the np.quantile function as below:\n",
    ">```python\n",
    ">\n",
    ">np.quantile(data, np.linspace(0, 1, 5))\n",
    ">\n",
    ">```\n",
    "\n",
    "## binom\n",
    "\n",
    "白努力二項式分配, 主要函式: rvs(依據分配函式產生隨機數據), pmf(等於該數之機率“=“), cdf(小於等於該數之機率”<=“)\n",
    "\n",
    "\n",
    "### Yo, Lucas, please think about some interesting questions\n",
    "\n",
    "記得注意\"size\"變數\n"
   ]
  },
  {
   "cell_type": "code",
   "execution_count": null,
   "metadata": {},
   "outputs": [],
   "source": []
  },
  {
   "cell_type": "code",
   "execution_count": null,
   "metadata": {},
   "outputs": [],
   "source": []
  },
  {
   "cell_type": "code",
   "execution_count": null,
   "metadata": {},
   "outputs": [],
   "source": []
  },
  {
   "cell_type": "code",
   "execution_count": null,
   "metadata": {},
   "outputs": [],
   "source": []
  },
  {
   "cell_type": "code",
   "execution_count": 75,
   "metadata": {},
   "outputs": [],
   "source": [
    "from scipy.stats import binom\n",
    "from scipy.stats import uniform\n",
    "import numpy as np\n",
    "import matplotlib.pyplot as plt\n",
    "import seaborn as sns"
   ]
  },
  {
   "cell_type": "code",
   "execution_count": 76,
   "metadata": {},
   "outputs": [
    {
     "data": {
      "text/plain": [
       "array([1, 1, 1, 0, 2, 1, 1, 0, 1, 1, 0, 0, 0, 0, 2, 0, 1, 1, 2, 2, 2, 0,\n",
       "       2, 1, 0, 1, 0, 0, 1, 1, 1, 1, 2, 1, 1, 1, 2, 0, 0, 1, 1, 1, 2, 1,\n",
       "       0, 2, 1, 1, 2, 2])"
      ]
     },
     "execution_count": 76,
     "metadata": {},
     "output_type": "execute_result"
    }
   ],
   "source": [
    "## 筆記: 記得size變數, 白努力就是二項式分配的概念\n",
    "np.random.seed(420)\n",
    "result = binom.rvs(2, 0.5, size=50)\n",
    "result"
   ]
  },
  {
   "cell_type": "markdown",
   "metadata": {},
   "source": [
    "##"
   ]
  },
  {
   "cell_type": "code",
   "execution_count": 114,
   "metadata": {},
   "outputs": [
    {
     "data": {
      "text/plain": [
       "(array([1., 2., 4., 4., 6., 4., 2., 3., 4., 2., 2., 6., 5., 3., 5., 5., 4.,\n",
       "        3., 3., 4., 3., 2., 1., 4., 5., 4., 1., 2., 4., 2.]),\n",
       " array([ 0,  1,  2,  3,  4,  5,  6,  7,  8,  9, 10, 11, 12, 13, 14, 15, 16,\n",
       "        17, 18, 19, 20, 21, 22, 23, 24, 25, 26, 27, 28, 29, 30]),\n",
       " <BarContainer object of 30 artists>)"
      ]
     },
     "execution_count": 114,
     "metadata": {},
     "output_type": "execute_result"
    },
    {
     "data": {
      "image/png": "[encoded data removed]",
      "text/plain": [
       "<Figure size 640x480 with 1 Axes>"
      ]
     },
     "metadata": {},
     "output_type": "display_data"
    }
   ],
   "source": [
    "min_point = 0\n",
    "max_point = 30\n",
    "data_uniform = uniform.rvs(min_point, max_point, size=100)\n",
    "plt.hist(data_uniform, bins=np.arange(0, 31, 1))\n"
   ]
  },
  {
   "cell_type": "code",
   "execution_count": 78,
   "metadata": {},
   "outputs": [
    {
     "name": "stdout",
     "output_type": "stream",
     "text": [
      "the mean value:\n",
      "the quartile\n"
     ]
    }
   ],
   "source": [
    "print('the mean value:')\n",
    "print('the quartile')\n",
    "\n",
    "quantile_values = np.quantile(data_uniform, np.linspace(0, 1, 5))\n",
    "\n"
   ]
  },
  {
   "cell_type": "code",
   "execution_count": 79,
   "metadata": {},
   "outputs": [
    {
     "data": {
      "text/plain": [
       "array([ 4,  6,  5,  6,  5,  6,  7,  4,  6,  7,  6,  7,  5,  6,  5,  3,  6,\n",
       "        6,  3,  5,  7,  3,  6,  3,  5,  4,  5,  6,  7,  5,  4,  4,  6,  4,\n",
       "        5,  5,  7,  5,  4,  2,  5,  5,  5,  4,  6,  6, 10,  4,  4,  5,  4,\n",
       "        4,  6,  3,  7,  3,  5,  4,  7,  6,  2,  3,  5,  4,  2,  6,  6,  5,\n",
       "        7,  1,  8,  3,  7,  3,  5,  4,  5,  4,  5,  7,  5,  4,  5,  6,  5,\n",
       "        3,  6,  5,  7,  6,  4,  4,  3,  5,  5,  7,  6,  5,  5,  2])"
      ]
     },
     "execution_count": 79,
     "metadata": {},
     "output_type": "execute_result"
    }
   ],
   "source": [
    "def binom_gen(each_time_samples=10, positive_prob=0.5, sample_size=100):\n",
    "    \n",
    "    data_binom = binom.rvs(each_time_samples, positive_prob, size=sample_size)\n",
    "    return data_binom\n",
    "\n",
    "\n",
    "binom_gen()"
   ]
  },
  {
   "cell_type": "code",
   "execution_count": 102,
   "metadata": {},
   "outputs": [
    {
     "data": {
      "text/plain": [
       "([<matplotlib.axis.XTick at 0x7fcf413f2cd0>,\n",
       "  <matplotlib.axis.XTick at 0x7fcf41432090>,\n",
       "  <matplotlib.axis.XTick at 0x7fcf41458110>,\n",
       "  <matplotlib.axis.XTick at 0x7fcf73639590>,\n",
       "  <matplotlib.axis.XTick at 0x7fcf736395d0>,\n",
       "  <matplotlib.axis.XTick at 0x7fcf73643150>,\n",
       "  <matplotlib.axis.XTick at 0x7fcf73643410>,\n",
       "  <matplotlib.axis.XTick at 0x7fcf736202d0>,\n",
       "  <matplotlib.axis.XTick at 0x7fcf73612e10>,\n",
       "  <matplotlib.axis.XTick at 0x7fcf611fecd0>],\n",
       " [Text(0, 0, ''),\n",
       "  Text(0, 0, ''),\n",
       "  Text(0, 0, ''),\n",
       "  Text(0, 0, ''),\n",
       "  Text(0, 0, ''),\n",
       "  Text(0, 0, ''),\n",
       "  Text(0, 0, ''),\n",
       "  Text(0, 0, ''),\n",
       "  Text(0, 0, ''),\n",
       "  Text(0, 0, '')])"
      ]
     },
     "execution_count": 102,
     "metadata": {},
     "output_type": "execute_result"
    },
    {
     "data": {
      "image/png": "[encoded data removed]",
      "text/plain": [
       "<Figure size 640x480 with 1 Axes>"
      ]
     },
     "metadata": {},
     "output_type": "display_data"
    }
   ],
   "source": [
    "np.random.seed(420)\n",
    "result = binom_gen()\n",
    "# result\n",
    "sns.histplot(data=result, bins=np.arange(1, 11, 1))\n",
    "plt.xticks(np.arange(1, 11, 1))"
   ]
  },
  {
   "cell_type": "code",
   "execution_count": null,
   "metadata": {},
   "outputs": [],
   "source": []
  },
  {
   "cell_type": "code",
   "execution_count": 110,
   "metadata": {},
   "outputs": [
    {
     "data": {
      "text/plain": [
       "0.0107421875"
      ]
     },
     "execution_count": 110,
     "metadata": {},
     "output_type": "execute_result"
    }
   ],
   "source": []
  }
 ],
 "metadata": {
  "kernelspec": {
   "display_name": "Python 3.7.4 64-bit ('base')",
   "language": "python",
   "name": "python3"
  },
  "language_info": {
   "codemirror_mode": {
    "name": "ipython",
    "version": 3
   },
   "file_extension": ".py",
   "mimetype": "text/x-python",
   "name": "python",
   "nbconvert_exporter": "python",
   "pygments_lexer": "ipython3",
   "version": "3.7.4"
  },
  "orig_nbformat": 4,
  "vscode": {
   "interpreter": {
    "hash": "38505b1823952a8d06edfb0c2c90cab2b0517193277b7732fb89705b7ec6b4d0"
   }
  }
 },
 "nbformat": 4,
 "nbformat_minor": 2
}
